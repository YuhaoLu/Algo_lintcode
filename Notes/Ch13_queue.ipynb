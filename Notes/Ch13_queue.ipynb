{
 "cells": [
  {
   "cell_type": "markdown",
   "metadata": {},
   "source": [
    "Chapter 13. Queue"
   ]
  },
  {
   "cell_type": "code",
   "execution_count": null,
   "metadata": {},
   "outputs": [],
   "source": [
    "# List Queue\n",
    "class MyQueue(object):\n",
    "\n",
    "    def __init__(self):\n",
    "        self.MAXSIZE = 4\n",
    "        self.queue = [0] * self.MAXSIZE\n",
    "        self.head, self.tail = 0, 0\n",
    "\n",
    "    def enqueue(self, item):\n",
    "        queue = self.queue \n",
    "\n",
    "        # Queue is full\n",
    "        if self.tail == self.MAXSIZE:\n",
    "            return \n",
    "\n",
    "        queue[self.tail] = item \n",
    "        self.tail += 1 \n",
    "\n",
    "    def dequeue(self):\n",
    "        queue = self.queue \n",
    "\n",
    "        ## Queue is empty\n",
    "        if self.head == self.tail:\n",
    "            return -1 \n",
    "\n",
    "        item = queue[self.head]\n",
    "        self.head += 1 \n",
    "        return item \n",
    "\n",
    "queue = MyQueue()\n",
    "queue.enqueue(1)\n",
    "queue.enqueue(2)\n",
    "queue.enqueue(3)\n",
    "queue.enqueue(4)\n",
    "queue.dequeue()\n",
    "queue.dequeue()\n"
   ]
  },
  {
   "cell_type": "code",
   "execution_count": 7,
   "metadata": {},
   "outputs": [
    {
     "data": {
      "text/plain": [
       "2"
      ]
     },
     "execution_count": 7,
     "metadata": {},
     "output_type": "execute_result"
    }
   ],
   "source": [
    "# LinkedList Queue\n",
    "class Node():\n",
    "    def __init__(self, _val):\n",
    "        self.next = None\n",
    "        self.val = _val\n",
    "\n",
    "class MyQueue(object):\n",
    "\n",
    "    def __init__(self):\n",
    "        self.head, self.tail = None, None\n",
    "\n",
    "    def enqueue(self, item):\n",
    "        if self.head is None:\n",
    "            self.head = Node(item)\n",
    "            self.tail = self.head\n",
    "        else:\n",
    "            self.tail.next = Node(item)\n",
    "            self.tail = self.tail.next\n",
    "\n",
    "    def dequeue(self):\n",
    "        if self.head is not None:\n",
    "            item = self.head.val\n",
    "            self.head = self.head.next\n",
    "            return item\n",
    "        return -1\n"
   ]
  },
  {
   "cell_type": "code",
   "execution_count": null,
   "metadata": {},
   "outputs": [],
   "source": [
    "# Cycular Queue with List\n",
    "class MyQueue(object):\n",
    "\n",
    "    def __init__(self):\n",
    "        self.SIZE = 100000\n",
    "        self.queue = [0] * self.SIZE\n",
    "        self.head, self.tail = 0, 0\n",
    "\n",
    "    def enqueue(self, item):\n",
    "        queue = self.queue \n",
    "\n",
    "        # Queue is full\n",
    "        if (self.tail + 1) % self.SIZE == self.head:\n",
    "            return \n",
    "\n",
    "        queue[self.tail] = item \n",
    "        self.tail = (self.tail + 1) % self.SIZE\n",
    "\n",
    "\n",
    "    def dequeue(self):\n",
    "        queue = self.queue \n",
    "\n",
    "        ## Queue is empty\n",
    "        if self.head == self.tail:\n",
    "            return -1 \n",
    "\n",
    "        item = queue[self.head]\n",
    "        self.head = (self.head + 1) % self.SIZE\n",
    "        return item "
   ]
  },
  {
   "cell_type": "markdown",
   "metadata": {},
   "source": [
    "Set\n",
    "Hashmap\n",
    "List\n",
    "- ArrayList\n",
    "- LinkedList\n",
    "Queue\n",
    "- FIFO Queue (LinkedList)\n",
    "- Priority Queue (Heap) \n",
    "  "
   ]
  }
 ],
 "metadata": {
  "interpreter": {
   "hash": "31f2aee4e71d21fbe5cf8b01ff0e069b9275f58929596ceb00d14d90e3e16cd6"
  },
  "kernelspec": {
   "display_name": "Python 3.7.3 64-bit",
   "language": "python",
   "name": "python3"
  },
  "language_info": {
   "codemirror_mode": {
    "name": "ipython",
    "version": 3
   },
   "file_extension": ".py",
   "mimetype": "text/x-python",
   "name": "python",
   "nbconvert_exporter": "python",
   "pygments_lexer": "ipython3",
   "version": "3.7.3"
  },
  "orig_nbformat": 4
 },
 "nbformat": 4,
 "nbformat_minor": 2
}
