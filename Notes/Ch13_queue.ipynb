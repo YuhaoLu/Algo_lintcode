{
 "cells": [
  {
   "cell_type": "markdown",
   "metadata": {},
   "source": [
    "Chapter 13. Queue"
   ]
  },
  {
   "cell_type": "markdown",
   "metadata": {},
   "source": [
    "# 什么是队列（Queue）？\n",
    "队列（queue）是一种采用先进先出（FIFO，first in first out）策略的抽象数据结构。比如生活中排队，总是按照先来的先服务，后来的后服务。队列在数据结构中举足轻重，其在算法中应用广泛， **最常用的就是在宽度优先搜索(BFS）中，记录待扩展的节点.**\n",
    "\n",
    "队列内部存储元素的方式，一般有两种，数组（array）和链表（linked list）。两者的最主要区别是：\n",
    "\n",
    "数组对随机访问有较好性能。\n",
    "链表对插入和删除元素有较好性能。"
   ]
  },
  {
   "cell_type": "markdown",
   "metadata": {},
   "source": [
    "## 用数组实现队列\n",
    "在使用数组表示队列时，我们首先要创建一个长度为MAXSIZE的数组作为队列。\n",
    "因为MAXSIZE是数组的长度，那MAXSIZE-1就是队列的最大下标了。\n",
    "\n",
    "在队列中，除了用一组地址连续的存储单元依次存储从队首到队尾的元素外，还需要附设两个整型变量head和tail分别指示队首和队尾的位置。\n",
    "\n",
    "我们主要介绍三个操作：\n",
    "\n",
    "- 初始化队列\n",
    "- enqueue()向队尾插入元素\n",
    "- dequeue()删除并返回队首元素\n",
    "每次元素入队时，tail向后移动；每次元素出队时，head向后移动。\n",
    "\n",
    "我们可以将队列视作一个类，通过成员变量数组来表示一组地址连续的存储单元，再定义两个成员变量head和tail，将队列的基本操作定义成类的方法。（注意：为了将重点放在实现队列上，做了适当简化。示范队列仅支持整数类型，若想实现泛型，可用反射机制和object对象传参；此外，可多做安全检查并抛出异常）"
   ]
  },
  {
   "cell_type": "code",
   "execution_count": null,
   "metadata": {},
   "outputs": [],
   "source": [
    "# List Queue\n",
    "class MyQueue(object):\n",
    "\n",
    "    def __init__(self):\n",
    "        self.MAXSIZE = 4\n",
    "        self.queue = [0] * self.MAXSIZE\n",
    "        self.head, self.tail = 0, 0\n",
    "\n",
    "    def enqueue(self, item):\n",
    "        queue = self.queue \n",
    "\n",
    "        # Queue is full\n",
    "        if self.tail == self.MAXSIZE:\n",
    "            return \n",
    "\n",
    "        queue[self.tail] = item \n",
    "        self.tail += 1 \n",
    "\n",
    "    def dequeue(self):\n",
    "        queue = self.queue \n",
    "\n",
    "        ## Queue is empty\n",
    "        if self.head == self.tail:\n",
    "            return -1 \n",
    "\n",
    "        item = queue[self.head]\n",
    "        self.head += 1 \n",
    "        return item \n",
    "\n",
    "queue = MyQueue()\n",
    "queue.enqueue(1)\n",
    "queue.enqueue(2)\n",
    "queue.enqueue(3)\n",
    "queue.enqueue(4)\n",
    "queue.dequeue()\n",
    "queue.dequeue()\n"
   ]
  },
  {
   "cell_type": "markdown",
   "metadata": {},
   "source": [
    "但是大家会发现，如果这样实现队列的话，我们考虑MAXSIZE为4的情况，如果我们采取下面的操作\n",
    "\n",
    "enqueue(1)\n",
    "enqueue(2)\n",
    "enqueue(3)\n",
    "enqueue(4)\n",
    "dequeue()\n",
    "dequeue()\n",
    "结束后数组的状态时[^, ^, 3, 4], head = 2, tail = 4。（'^'表示该位置为空，即当前元素已经出队）\n",
    "从我们之前的判断来看，tail == MAXSIZE , 当前队列已经满了，不能继续添加元素了，但是实际上我们还可以继续添加元素。因此在使用数组实现队列时，可能会出现空间未有效利用的情况，因此，我们有两种解决方法：\n",
    "\n",
    "- 使用链表来实现队列\n",
    "- 使用数组来实现循环队列\n",
    "\n",
    "那么我们就先来看用链表来实现队列的方法："
   ]
  },
  {
   "cell_type": "markdown",
   "metadata": {},
   "source": [
    "## 用链表实现队列\n",
    "链表是由多个节点构成的，一个节点由两部分组成:一个是数据域,一个是指针域.\n",
    "链表分为:单链表(只能是父节点引用子节点),双链表(相邻的节点可相互引用),循环链表(在双链表的基础上,头尾节点可相互引用).\n",
    "实现链表,就是在链表里加入节点,使用节点的引用域使节点之间形成连接,可相互调用.\n",
    "链表队列的实现原理:首先定义一个节点类,节点类包含引用域和数据域.然后定义一个链表类,链表类形成节点间的引用关系.\n",
    "\n",
    "我们主要介绍三个操作：\n",
    "\n",
    "初始化队列\n",
    "enqueue()向队尾插入元素\n",
    "dequeue()删除并返回队首元素\n",
    "在队列中，我们只要用两个指针head和tail分别指向链表的头部和尾部即可实现基本队列功能"
   ]
  },
  {
   "cell_type": "code",
   "execution_count": 7,
   "metadata": {},
   "outputs": [
    {
     "data": {
      "text/plain": [
       "2"
      ]
     },
     "execution_count": 7,
     "metadata": {},
     "output_type": "execute_result"
    }
   ],
   "source": [
    "# LinkedList Queue\n",
    "class Node():\n",
    "    def __init__(self, _val):\n",
    "        self.next = None\n",
    "        self.val = _val\n",
    "\n",
    "class MyQueue(object):\n",
    "\n",
    "    def __init__(self):\n",
    "        self.head, self.tail = None, None\n",
    "\n",
    "    def enqueue(self, item):\n",
    "        if self.head is None:\n",
    "            self.head = Node(item)\n",
    "            self.tail = self.head\n",
    "        else:\n",
    "            self.tail.next = Node(item)\n",
    "            self.tail = self.tail.next\n",
    "\n",
    "    def dequeue(self):\n",
    "        if self.head is not None:\n",
    "            item = self.head.val\n",
    "            self.head = self.head.next\n",
    "            return item\n",
    "        return -1\n"
   ]
  },
  {
   "cell_type": "markdown",
   "metadata": {},
   "source": [
    "## 用数组实现循环队列\n",
    "队列是一种先进先出的线性表，它只允许在表的一端进行插入，而在另一端删除元素。允许插入的一端称为队尾，允许删除的一端称为队首。但是我们之前也提到了，数组实现的队列会导致“虽然数组没满，但是tail已经指向了数组末尾，返回数组已满，队列溢出的错误信号”，我们称之为“假溢出”。\n",
    "\n",
    "为充分利用向量空间，克服\"假溢出\"现象的方法是：将向量空间想象为一个首尾相接的圆环，并称这种向量为循环向量。存储在其中的队列称为循环队列（Circular Queue）。循环队列是把顺序队列首尾相连，把存储队列元素的表从逻辑上看成一个环，成为循环队列。\n",
    "\n",
    "我们主要介绍三个操作：\n",
    "\n",
    "- 初始化循环队列\n",
    "- enqueue()向队尾插入元素\n",
    "- dequeue()删除并返回队首元素\n",
    "在循环队列中，除了用一组地址连续的存储单元依次存储从队首到队尾的元素外，还需要附设两个整型变量head和tail分别指示队首和队尾的位置。\n",
    "\n",
    "我们可以将循环队列视作一个类，通过成员变量数组来表示一组地址连续的存储单元，再定义两个成员变量head和tail，将循环队列的基本操作定义成类的方法，循环效果则用“模”运算实现，以此来实现循环队列。\n",
    "\n",
    "每当tail到达末尾的时候，将tail对MAXSIZE取模，使其回到队首。但是如果这样我们会发现一个问题，队列为空和队列已满的条件都成了tail == head。\n",
    "\n",
    "为了避免这种无法判断的情况，我们规定当循环队列只剩一个空位的时候，就认为队列已满。这样队列已满的条件就成了 (tail + 1) % MAXSIZE == head。"
   ]
  },
  {
   "cell_type": "code",
   "execution_count": null,
   "metadata": {},
   "outputs": [],
   "source": [
    "# Cycular Queue with List\n",
    "class MyQueue(object):\n",
    "\n",
    "    def __init__(self):\n",
    "        self.SIZE = 100000\n",
    "        self.queue = [0] * self.SIZE\n",
    "        self.head, self.tail = 0, 0\n",
    "\n",
    "    def enqueue(self, item):\n",
    "        queue = self.queue \n",
    "\n",
    "        # Queue is full\n",
    "        if (self.tail + 1) % self.SIZE == self.head: # if self.tail == self.MAXSIZE\n",
    "            return \n",
    "\n",
    "        queue[self.tail] = item \n",
    "        self.tail = (self.tail + 1) % self.SIZE      # self.tail = self.tail + 1\n",
    "\n",
    "\n",
    "    def dequeue(self):\n",
    "        queue = self.queue \n",
    "\n",
    "        ## Queue is empty\n",
    "        if self.head == self.tail:\n",
    "            return -1 \n",
    "\n",
    "        item = queue[self.head]\n",
    "        self.head = (self.head + 1) % self.SIZE      # self.head = self.head - 1\n",
    "        return item "
   ]
  },
  {
   "cell_type": "markdown",
   "metadata": {},
   "source": [
    "Set\n",
    "Hashmap\n",
    "List\n",
    "- ArrayList\n",
    "- LinkedList\n",
    "Queue\n",
    "- FIFO Queue (LinkedList)\n",
    "- Priority Queue (Heap) \n",
    "  "
   ]
  }
 ],
 "metadata": {
  "interpreter": {
   "hash": "31f2aee4e71d21fbe5cf8b01ff0e069b9275f58929596ceb00d14d90e3e16cd6"
  },
  "kernelspec": {
   "display_name": "Python 3.7.3 64-bit",
   "language": "python",
   "name": "python3"
  },
  "language_info": {
   "codemirror_mode": {
    "name": "ipython",
    "version": 3
   },
   "file_extension": ".py",
   "mimetype": "text/x-python",
   "name": "python",
   "nbconvert_exporter": "python",
   "pygments_lexer": "ipython3",
   "version": "3.7.3"
  },
  "orig_nbformat": 4
 },
 "nbformat": 4,
 "nbformat_minor": 2
}
